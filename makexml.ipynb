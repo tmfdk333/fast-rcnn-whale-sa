{
 "cells": [
  {
   "cell_type": "code",
   "execution_count": 3,
   "metadata": {
    "collapsed": true
   },
   "outputs": [],
   "source": [
    "# <annoatation>\n",
    "#     <filename>filename</filename>\n",
    "#     <size>\n",
    "#         <width>width</width>\n",
    "#         <height>height</height>\n",
    "#     </size>\n",
    "#     <object>\n",
    "#         <face>face</face>\n",
    "#         <bndbox>\n",
    "#             <xmin>xmin</xmin>\n",
    "#             <xmax>xmax</xmax>\n",
    "#             <ymin>ymin</ymin>\n",
    "#             <ymax>ymax</ymax>\n",
    "#         </bndbox>\n",
    "#     </object>\n",
    "# </annotation>"
   ]
  },
  {
   "cell_type": "code",
   "execution_count": 22,
   "metadata": {
    "collapsed": false
   },
   "outputs": [
    {
     "name": "stdout",
     "output_type": "stream",
     "text": [
      "b'<annotation>\\n  <filename>some text</filename>\\n</annotation>\\n'\n"
     ]
    }
   ],
   "source": [
    "from lxml import etree\n",
    "\n",
    "# create XML \n",
    "root = etree.Element('annotation')\n",
    "#root.append(etree.Element('child'))\n",
    "# another child with text\n",
    "filename = etree.Element('filename')\n",
    "filename.text = 'some text'\n",
    "root.append(filename)\n",
    "\n",
    "# pretty string\n",
    "print(etree.tostring(root, pretty_print=True))"
   ]
  },
  {
   "cell_type": "code",
   "execution_count": 21,
   "metadata": {
    "collapsed": false
   },
   "outputs": [],
   "source": [
    "root = str(root)"
   ]
  },
  {
   "cell_type": "code",
   "execution_count": 23,
   "metadata": {
    "collapsed": false
   },
   "outputs": [
    {
     "ename": "TypeError",
     "evalue": "write() argument must be str, not bytes",
     "output_type": "error",
     "traceback": [
      "\u001b[0;31m---------------------------------------------------------------------------\u001b[0m",
      "\u001b[0;31mTypeError\u001b[0m                                 Traceback (most recent call last)",
      "\u001b[0;32m<ipython-input-23-962a2b782b63>\u001b[0m in \u001b[0;36m<module>\u001b[0;34m()\u001b[0m\n\u001b[1;32m      1\u001b[0m \u001b[0mf\u001b[0m \u001b[0;34m=\u001b[0m \u001b[0mopen\u001b[0m\u001b[0;34m(\u001b[0m\u001b[0;34m'doc.xml'\u001b[0m\u001b[0;34m,\u001b[0m \u001b[0;34m'w'\u001b[0m\u001b[0;34m)\u001b[0m\u001b[0;34m\u001b[0m\u001b[0m\n\u001b[0;32m----> 2\u001b[0;31m \u001b[0mf\u001b[0m\u001b[0;34m.\u001b[0m\u001b[0mwrite\u001b[0m\u001b[0;34m(\u001b[0m\u001b[0metree\u001b[0m\u001b[0;34m.\u001b[0m\u001b[0mtostring\u001b[0m\u001b[0;34m(\u001b[0m\u001b[0mroot\u001b[0m\u001b[0;34m,\u001b[0m \u001b[0mpretty_print\u001b[0m\u001b[0;34m=\u001b[0m\u001b[0;32mTrue\u001b[0m\u001b[0;34m)\u001b[0m\u001b[0;34m)\u001b[0m\u001b[0;34m\u001b[0m\u001b[0m\n\u001b[0m\u001b[1;32m      3\u001b[0m \u001b[0mf\u001b[0m\u001b[0;34m.\u001b[0m\u001b[0mclose\u001b[0m\u001b[0;34m(\u001b[0m\u001b[0;34m)\u001b[0m\u001b[0;34m\u001b[0m\u001b[0m\n",
      "\u001b[0;31mTypeError\u001b[0m: write() argument must be str, not bytes"
     ]
    }
   ],
   "source": [
    "f = open('doc.xml', 'w')\n",
    "f.write(etree.tostring(root, pretty_print=True))\n",
    "f.close()"
   ]
  },
  {
   "cell_type": "code",
   "execution_count": 14,
   "metadata": {
    "collapsed": false
   },
   "outputs": [
    {
     "ename": "TypeError",
     "evalue": "write() argument must be str, not lxml.etree._Element",
     "output_type": "error",
     "traceback": [
      "\u001b[0;31m---------------------------------------------------------------------------\u001b[0m",
      "\u001b[0;31mTypeError\u001b[0m                                 Traceback (most recent call last)",
      "\u001b[0;32m<ipython-input-14-6713f108306b>\u001b[0m in \u001b[0;36m<module>\u001b[0;34m()\u001b[0m\n\u001b[1;32m      1\u001b[0m \u001b[0mf\u001b[0m \u001b[0;34m=\u001b[0m \u001b[0mopen\u001b[0m\u001b[0;34m(\u001b[0m\u001b[0;34m\"hi.xml\"\u001b[0m\u001b[0;34m,\u001b[0m \u001b[0;34m\"w\"\u001b[0m\u001b[0;34m)\u001b[0m\u001b[0;34m\u001b[0m\u001b[0m\n\u001b[0;32m----> 2\u001b[0;31m \u001b[0mf\u001b[0m\u001b[0;34m.\u001b[0m\u001b[0mwrite\u001b[0m\u001b[0;34m(\u001b[0m\u001b[0mroot\u001b[0m\u001b[0;34m)\u001b[0m\u001b[0;34m\u001b[0m\u001b[0m\n\u001b[0m",
      "\u001b[0;31mTypeError\u001b[0m: write() argument must be str, not lxml.etree._Element"
     ]
    }
   ],
   "source": [
    "f = open(\"hi.xml\", \"w\")\n",
    "f.write(root)"
   ]
  },
  {
   "cell_type": "code",
   "execution_count": 13,
   "metadata": {
    "collapsed": false
   },
   "outputs": [
    {
     "ename": "NameError",
     "evalue": "name 'ET' is not defined",
     "output_type": "error",
     "traceback": [
      "\u001b[0;31m---------------------------------------------------------------------------\u001b[0m",
      "\u001b[0;31mNameError\u001b[0m                                 Traceback (most recent call last)",
      "\u001b[0;32m<ipython-input-13-9cef28417f7a>\u001b[0m in \u001b[0;36m<module>\u001b[0;34m()\u001b[0m\n\u001b[0;32m----> 1\u001b[0;31m \u001b[0mtree\u001b[0m \u001b[0;34m=\u001b[0m \u001b[0mET\u001b[0m\u001b[0;34m.\u001b[0m\u001b[0mElementTree\u001b[0m\u001b[0;34m(\u001b[0m\u001b[0mroot\u001b[0m\u001b[0;34m)\u001b[0m\u001b[0;34m\u001b[0m\u001b[0m\n\u001b[0m\u001b[1;32m      2\u001b[0m \u001b[0mtree\u001b[0m\u001b[0;34m.\u001b[0m\u001b[0mwrite\u001b[0m\u001b[0;34m(\u001b[0m\u001b[0;34m\"page.xhtml\"\u001b[0m\u001b[0;34m)\u001b[0m\u001b[0;34m\u001b[0m\u001b[0m\n",
      "\u001b[0;31mNameError\u001b[0m: name 'ET' is not defined"
     ]
    }
   ],
   "source": [
    "tree = ET.ElementTree(root)\n",
    "tree.write(\"page.xhtml\")"
   ]
  },
  {
   "cell_type": "code",
   "execution_count": null,
   "metadata": {
    "collapsed": true
   },
   "outputs": [],
   "source": []
  },
  {
   "cell_type": "code",
   "execution_count": 30,
   "metadata": {
    "collapsed": false
   },
   "outputs": [
    {
     "ename": "TypeError",
     "evalue": "tostring() got an unexpected keyword argument 'pretty_print'",
     "output_type": "error",
     "traceback": [
      "\u001b[0;31m---------------------------------------------------------------------------\u001b[0m",
      "\u001b[0;31mTypeError\u001b[0m                                 Traceback (most recent call last)",
      "\u001b[0;32m<ipython-input-30-b8183caacfc2>\u001b[0m in \u001b[0;36m<module>\u001b[0;34m()\u001b[0m\n\u001b[1;32m     33\u001b[0m \u001b[0moutput_file\u001b[0m \u001b[0;34m=\u001b[0m \u001b[0mopen\u001b[0m\u001b[0;34m(\u001b[0m \u001b[0;34m'membership.xml'\u001b[0m\u001b[0;34m,\u001b[0m \u001b[0;34m'wb'\u001b[0m \u001b[0;34m)\u001b[0m\u001b[0;34m\u001b[0m\u001b[0m\n\u001b[1;32m     34\u001b[0m \u001b[0moutput_file\u001b[0m\u001b[0;34m.\u001b[0m\u001b[0mwrite\u001b[0m\u001b[0;34m(\u001b[0m \u001b[0;34mb'<?xml version=\"1.0\"?>'\u001b[0m \u001b[0;34m)\u001b[0m\u001b[0;34m\u001b[0m\u001b[0m\n\u001b[0;32m---> 35\u001b[0;31m \u001b[0moutput_file\u001b[0m\u001b[0;34m.\u001b[0m\u001b[0mwrite\u001b[0m\u001b[0;34m(\u001b[0m \u001b[0mElementTree\u001b[0m\u001b[0;34m.\u001b[0m\u001b[0mtostring\u001b[0m\u001b[0;34m(\u001b[0m \u001b[0mmembership\u001b[0m\u001b[0;34m,\u001b[0m \u001b[0mpretty_print\u001b[0m\u001b[0;34m=\u001b[0m\u001b[0;32mTrue\u001b[0m \u001b[0;34m)\u001b[0m \u001b[0;34m)\u001b[0m\u001b[0;34m\u001b[0m\u001b[0m\n\u001b[0m\u001b[1;32m     36\u001b[0m \u001b[0moutput_file\u001b[0m\u001b[0;34m.\u001b[0m\u001b[0mclose\u001b[0m\u001b[0;34m(\u001b[0m\u001b[0;34m)\u001b[0m\u001b[0;34m\u001b[0m\u001b[0m\n",
      "\u001b[0;31mTypeError\u001b[0m: tostring() got an unexpected keyword argument 'pretty_print'"
     ]
    }
   ],
   "source": [
    "from xml.etree import ElementTree\n",
    "from xml.etree.ElementTree import Element\n",
    "from xml.etree.ElementTree import SubElement\n",
    "\n",
    "# <membership/>\n",
    "membership = Element( 'membership' )\n",
    "\n",
    "# <membership><users/>\n",
    "users = SubElement( membership, 'users' )\n",
    "\n",
    "# <membership><users><user/>\n",
    "SubElement( users, 'user', name='john' )\n",
    "SubElement( users, 'user', name='charles' )\n",
    "SubElement( users, 'user', name='peter' )\n",
    "\n",
    "# <membership><groups/>\n",
    "groups = SubElement( membership, 'groups' )\n",
    "\n",
    "# <membership><groups><group/>\n",
    "group = SubElement( groups, 'group', name='users' )\n",
    "\n",
    "# <membership><groups><group><user/>\n",
    "SubElement( group, 'user', name='john' )\n",
    "SubElement( group, 'user', name='charles' )\n",
    "\n",
    "# <membership><groups><group/>\n",
    "group = SubElement( groups, 'group', name='administrators' )\n",
    "\n",
    "# <membership><groups><group><user/>\n",
    "SubElement( group, 'user', name='peter' )\n",
    "#If Python let you indent freely, the syntax would have been even closer to what one would write directly in XML. In any event, because of how closely it resembles the target format, ElementTree can be considered to be a small domain-specific language. Writing this to a file can be done like this:\n",
    "\n",
    "output_file = open( 'membership.xml', 'wb' )\n",
    "output_file.write( b'<?xml version=\"1.0\"?>' )\n",
    "\n",
    "membersh\n",
    "output_file.write( ElementTree.tostring( membership, pretty_print=True ) )\n",
    "output_file.close()\n",
    "\n",
    "s = etree.tostring(root, pretty_print=True)\n"
   ]
  },
  {
   "cell_type": "code",
   "execution_count": null,
   "metadata": {
    "collapsed": true
   },
   "outputs": [],
   "source": [
    "from lxml import etree"
   ]
  },
  {
   "cell_type": "code",
   "execution_count": 35,
   "metadata": {
    "collapsed": false
   },
   "outputs": [
    {
     "ename": "TypeError",
     "evalue": "Type 'xml.etree.ElementTree.Element' cannot be serialized.",
     "output_type": "error",
     "traceback": [
      "\u001b[0;31m---------------------------------------------------------------------------\u001b[0m",
      "\u001b[0;31mTypeError\u001b[0m                                 Traceback (most recent call last)",
      "\u001b[0;32m<ipython-input-35-f53dd0111367>\u001b[0m in \u001b[0;36m<module>\u001b[0;34m()\u001b[0m\n\u001b[0;32m----> 1\u001b[0;31m \u001b[0ms\u001b[0m \u001b[0;34m=\u001b[0m \u001b[0metree\u001b[0m\u001b[0;34m.\u001b[0m\u001b[0mtostring\u001b[0m\u001b[0;34m(\u001b[0m\u001b[0mmembership\u001b[0m\u001b[0;34m,\u001b[0m \u001b[0mpretty_print\u001b[0m\u001b[0;34m=\u001b[0m\u001b[0;32mTrue\u001b[0m\u001b[0;34m)\u001b[0m\u001b[0;34m\u001b[0m\u001b[0m\n\u001b[0m",
      "\u001b[0;32msrc/lxml/lxml.etree.pyx\u001b[0m in \u001b[0;36mlxml.etree.tostring (src/lxml/lxml.etree.c:84534)\u001b[0;34m()\u001b[0m\n",
      "\u001b[0;31mTypeError\u001b[0m: Type 'xml.etree.ElementTree.Element' cannot be serialized."
     ]
    }
   ],
   "source": [
    "s = etree.tostring(membership, pretty_print=True)"
   ]
  },
  {
   "cell_type": "code",
   "execution_count": 34,
   "metadata": {
    "collapsed": false
   },
   "outputs": [
    {
     "data": {
      "text/plain": [
       "b'<annotation>\\n  <filename>some text</filename>\\n</annotation>\\n'"
      ]
     },
     "execution_count": 34,
     "metadata": {},
     "output_type": "execute_result"
    }
   ],
   "source": []
  },
  {
   "cell_type": "code",
   "execution_count": 32,
   "metadata": {
    "collapsed": false
   },
   "outputs": [
    {
     "ename": "TypeError",
     "evalue": "Type 'xml.etree.ElementTree.Element' cannot be serialized.",
     "output_type": "error",
     "traceback": [
      "\u001b[0;31m---------------------------------------------------------------------------\u001b[0m",
      "\u001b[0;31mTypeError\u001b[0m                                 Traceback (most recent call last)",
      "\u001b[0;32m<ipython-input-32-eef3a695ff8f>\u001b[0m in \u001b[0;36m<module>\u001b[0;34m()\u001b[0m\n\u001b[0;32m----> 1\u001b[0;31m \u001b[0mmembership\u001b[0m \u001b[0;34m=\u001b[0m \u001b[0metree\u001b[0m\u001b[0;34m.\u001b[0m\u001b[0mtostring\u001b[0m\u001b[0;34m(\u001b[0m\u001b[0mmembership\u001b[0m\u001b[0;34m,\u001b[0m \u001b[0mpretty_print\u001b[0m\u001b[0;34m=\u001b[0m\u001b[0;32mTrue\u001b[0m\u001b[0;34m)\u001b[0m\u001b[0;34m\u001b[0m\u001b[0m\n\u001b[0m",
      "\u001b[0;32msrc/lxml/lxml.etree.pyx\u001b[0m in \u001b[0;36mlxml.etree.tostring (src/lxml/lxml.etree.c:84534)\u001b[0;34m()\u001b[0m\n",
      "\u001b[0;31mTypeError\u001b[0m: Type 'xml.etree.ElementTree.Element' cannot be serialized."
     ]
    }
   ],
   "source": [
    "membership = etree.tostring(membership, pretty_print=True)"
   ]
  },
  {
   "cell_type": "code",
   "execution_count": null,
   "metadata": {
    "collapsed": true
   },
   "outputs": [],
   "source": [
    "FILE.writelines(etree.tostring(root, pretty_print=True))\n"
   ]
  },
  {
   "cell_type": "code",
   "execution_count": null,
   "metadata": {
    "collapsed": true
   },
   "outputs": [],
   "source": []
  },
  {
   "cell_type": "code",
   "execution_count": 38,
   "metadata": {
    "collapsed": true
   },
   "outputs": [],
   "source": [
    "from xml.etree import ElementTree as ET\n",
    "\n",
    "# build a tree structure\n",
    "root = ET.Element(\"{http://www.company.com}STUFF\")\n",
    "body = ET.SubElement(root, \"{http://www.company.com}MORE_STUFF\")\n",
    "body.text = \"STUFF EVERYWHERE!\"\n",
    "\n",
    "# wrap it in an ElementTree instance, and save as XML\n",
    "tree = ET.ElementTree(root)\n",
    "\n",
    "tree.write(\"page.xml\",\n",
    "           xml_declaration=True,encoding='utf-8',\n",
    "           method=\"xml\",default_namespace='http://www.company.com')"
   ]
  },
  {
   "cell_type": "markdown",
   "metadata": {},
   "source": [
    "# Working!!!!!!"
   ]
  },
  {
   "cell_type": "code",
   "execution_count": null,
   "metadata": {
    "collapsed": true
   },
   "outputs": [],
   "source": [
    "from xml.etree import ElementTree\n",
    "from xml.etree.ElementTree import Element\n",
    "from xml.etree.ElementTree import SubElement\n",
    "\n",
    "from xml.dom import minidom\n",
    "\n",
    "def prettify(elem):\n",
    "    \"\"\"Return a pretty-printed XML string for the Element.\n",
    "    \"\"\"\n",
    "    rough_string = ElementTree.tostring(elem, 'utf-8')\n",
    "    reparsed = minidom.parseString(rough_string)\n",
    "    return reparsed.toprettyxml(indent=\"  \")\n",
    "\n",
    "phonelist={}\n",
    "phonelist[\"Toni\"]=\"654 221 123\"\n",
    "phonelist[\"Marta\"]=\"443 221 321\"\n",
    "phonelist[\"Sergi\"]=\"554 222 112\"\n",
    "\n",
    "root = Element( 'phonelist' )\n",
    "\n",
    "for key in phonelist.keys():\n",
    "    entry = SubElement( root, 'entry' )\n",
    "    name = SubElement(entry, \"name\")\n",
    "    name.text = key\n",
    "    phone = SubElement(entry, \"phone\")\n",
    "    phone.text = phonelist[key]\n",
    "\n",
    "output_file = open( 'sortida.xml', 'w' )\n",
    "#output_file.write( '<?xml version=\"1.0\"?>' )\n",
    "output_file.write( prettify(root))\n",
    "output_file.close()"
   ]
  },
  {
   "cell_type": "code",
   "execution_count": null,
   "metadata": {
    "collapsed": true
   },
   "outputs": [],
   "source": [
    "# <annoatation>\n",
    "#     <filename>filename</filename>\n",
    "#     <size>\n",
    "#         <width>width</width>\n",
    "#         <height>height</height>\n",
    "#     </size>\n",
    "#     <object>\n",
    "#         <face>face</face>\n",
    "#         <bndbox>\n",
    "#             <xmin>xmin</xmin>\n",
    "#             <xmax>xmax</xmax>\n",
    "#             <ymin>ymin</ymin>\n",
    "#             <ymax>ymax</ymax>\n",
    "#         </bndbox>\n",
    "#     </object>\n",
    "# </annotation>"
   ]
  },
  {
   "cell_type": "markdown",
   "metadata": {},
   "source": [
    "# Modify"
   ]
  },
  {
   "cell_type": "code",
   "execution_count": 1,
   "metadata": {
    "collapsed": false
   },
   "outputs": [
    {
     "name": "stdout",
     "output_type": "stream",
     "text": [
      "<?xml version=\"1.0\" ?>\n",
      "<annotation>\n",
      "    <filename>filename</filename>\n",
      "    <size>\n",
      "        <width>width</width>\n",
      "        <width>height</width>\n",
      "    </size>\n",
      "    <object>\n",
      "        <face>face</face>\n",
      "        <bndbox>\n",
      "            <xmin>xmin</xmin>\n",
      "            <ymin>ymin</ymin>\n",
      "            <xmax>xmax</xmax>\n",
      "            <ymax>ymax</ymax>\n",
      "        </bndbox>\n",
      "    </object>\n",
      "</annotation>\n",
      "\n"
     ]
    }
   ],
   "source": [
    "from xml.etree import ElementTree\n",
    "from xml.etree.ElementTree import Element\n",
    "from xml.etree.ElementTree import SubElement\n",
    "\n",
    "from xml.dom import minidom\n",
    "\n",
    "def prettify(elem):\n",
    "    rough_string = ElementTree.tostring(elem, 'utf-8')\n",
    "    reparsed = minidom.parseString(rough_string)\n",
    "    return reparsed.toprettyxml(indent=\"    \")\n",
    "\n",
    "root = Element( 'annotation' )\n",
    "\n",
    "filename = SubElement(root, \"filename\")\n",
    "filename.text = \"filename\"\n",
    "size = SubElement(root, \"size\")\n",
    "width = SubElement(size, \"width\")\n",
    "width.text = \"width\"\n",
    "height = SubElement(size, \"width\")\n",
    "height.text = \"height\"\n",
    "\n",
    "obj = SubElement(root, \"object\")\n",
    "face = SubElement(obj, \"face\")\n",
    "face.text = \"face\"\n",
    "bndbox = SubElement(obj, \"bndbox\")\n",
    "xmin = SubElement(bndbox, \"xmin\")\n",
    "xmin.text = \"xmin\"\n",
    "ymin = SubElement(bndbox, \"ymin\")\n",
    "ymin.text = \"ymin\"\n",
    "xmax = SubElement(bndbox, \"xmax\")\n",
    "xmax.text = \"xmax\"\n",
    "ymax = SubElement(bndbox, \"ymax\")\n",
    "ymax.text = \"ymax\"\n",
    "\n",
    "print(prettify(root))"
   ]
  },
  {
   "cell_type": "code",
   "execution_count": 77,
   "metadata": {
    "collapsed": true
   },
   "outputs": [],
   "source": [
    "output_file = open( 'hello.xml', 'w' )\n",
    "#output_file.write( '<?xml version=\"1.0\"?>' )\n",
    "output_file.write( prettify(root))\n",
    "output_file.close()"
   ]
  }
 ],
 "metadata": {
  "kernelspec": {
   "display_name": "Python 3",
   "language": "python",
   "name": "python3"
  },
  "language_info": {
   "codemirror_mode": {
    "name": "ipython",
    "version": 3
   },
   "file_extension": ".py",
   "mimetype": "text/x-python",
   "name": "python",
   "nbconvert_exporter": "python",
   "pygments_lexer": "ipython3",
   "version": "3.5.2"
  }
 },
 "nbformat": 4,
 "nbformat_minor": 1
}
